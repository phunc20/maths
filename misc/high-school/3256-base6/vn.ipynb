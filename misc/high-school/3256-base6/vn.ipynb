{
 "cells": [
  {
   "cell_type": "markdown",
   "metadata": {},
   "source": [
    "## 2020/10/12 (月)\n",
    "\n",
    "Tối hôm qua Na hỏi tôi một bài toán học; Na đang học lớp 11, cái bài này là như thế này\n",
    "> Nếu chúng ta chỉ được phép sử dụng 6 chữ số từ tập $\\{1,2,3,4,5,6\\}$, thì có thể tạo ra bao nhiêu con số gồm 4 chữ số (chữ số được phép lặp lại) nhỏ hơn $3256$ (i.e. $< 3256$)?\n",
    "\n",
    "Cái bài này không có khó, nhưng mà tôi vẫn muốn viết xuống lưu lại."
   ]
  },
  {
   "cell_type": "markdown",
   "metadata": {},
   "source": [
    "### Ý tưởng 01: `base6`\n",
    "Thay vì suy nghĩ bằng `base10` rồi nói rằng số $1999$ không thỏa mãn điều kiện và số $1666$ thì được, chúng ta sẽ\n",
    "suy nghĩ bằng `base6`, tức là chỉ sử dụng $6$ con số là $\\{0,1,2,3,4,5\\}$.\n",
    "\n",
    "Trong bài toán góc, con số nhỏ nhất và phù hợp là $1111$; con số tương ứng số này trong `base6` sẽ là $(0000)_6$\n",
    "<br>\n",
    "Con số ngững $3256$ chúng ta cũng nên phiên dịch nó thành $(2145)_6$ (i.e. con số nào cũng phải xuống $1$ như ở trên)\n",
    "\n",
    "**N.B.** Ý của chúng ta\n",
    "- <b>không phải</b>  $(3256)_{10} = (2145)_6$\n",
    "- mà là trong bài toán góc chúng ta chỉ được phép 6 chữ số là $\\{1,2,3,4,5,6\\}$, việc này <b>không khác gì</b> khi chúng ta chỉ được phép sử dụng 6 chữ số $\\{0,1,2,3,4,5\\}$và tìm con số nhỏ hơn $(2145)_6$.\n",
    "\n",
    "Một khi chuyển qua hệ thổng `base6` như vậy chúng ta có thể nhận ra rằng số lượng con số nhỏ hơn $(2145)_6$ sẽ là những con số từ $(0000)_6$ đến $(2144)_6$, có\n",
    "> $2\\cdot6^3 + 1\\cdot6^2 + 4\\cdot6^1 + 5\\cdot6^0 = 497$ số.\n",
    "\n",
    "\n",
    "**Rmk.** Nếu bạn đọc không hiểu cái gì là `base6` hoặc `base10`, thì có thể tạm bỏ qua phần này; hoặc là tôi sẽ đăng thêm một bài viết về nó vào thời điểm sau. Thật ra, tụi nó cũng khá đơn giản:\n",
    "- $(2145)_6 = 2\\cdot6^3 + 1\\cdot6^2 + 4\\cdot6^1 + 5\\cdot6^0$\n",
    "- $(3256)_{10} = 3\\cdot{10}^3 + 2\\cdot{10}^2 + 5\\cdot{10}^1 + 6\\cdot{10}^0$\n",
    "\n"
   ]
  },
  {
   "cell_type": "markdown",
   "metadata": {},
   "source": [
    "### Ý tưởng 02\n",
    "Tôi đoán ý tưởng này chính là những gì được dạy ở lớp 11.\n",
    "- Nếu con số đầu tiên, tức là **con số bên tay trái nhất**, chúng ta chọn $1$ hoặc là $2$, thì ba con số phía sau chọn $6$ con số nào trong $\\{1,2,3,4,5,6\\}$ cũng được. Vì vậy chúng ta đã tìm ra $2\\cdot6^3$ con số phù hợp.\n",
    "- Nhắc lại ngững của chúng ta là $3256$. Giờ chúng ta suy xét trường hợp con số đầu tiên đã được chọn là $3$. Nếu con số thứ hai được chọn là $1$ (i.e. nhỏ hơn $2$, con số thứ hai của $3256$), thì, như ở trên, sẽ có $1 \\cdot 6^2$ con số phù hợp.\n",
    "- Cứ suy nghĩ theo lối này, chúng ta sẽ tìm thấy tổng con số phù hợp là $$2\\cdot6^3 + 1\\cdot6^2 + 4\\cdot6^1 + 5\\cdot6^0 = 497$$ y như trong ý tưởng đầu tiên.\n"
   ]
  },
  {
   "cell_type": "markdown",
   "metadata": {},
   "source": [
    "### Code\n",
    "Chúng ta có thể dễ dàng viết code tìm ra tất cả mỗi con số phù hợp và số lượng của những con số này.\n",
    "Ở đây chúng ta sẽ chọn <b>Pascal</b> và <b>Python</b> vì lớp 11 vào năm 2020 có khá năng sử dung hai ngôn ngữ này nhất.\n",
    "\n",
    "Vì bài đã khá dài, nên tôi sẽ không tốn thêm thời gian giải thích code nữa (với thật ra code cũng tương đối đơn giản).\n",
    "\n",
    "- Tôi viết hai cái Python scripts <code><b>str.py</b></code> va <code><b>int.py</b></code>, bản chất hai cái y như nhau, chỉ khác ở cách code.\n",
    "    - Cách chạy hai scripts này là, e.g. (trên terminal) **`$ python str.py`**\n",
    "    - Which script is faster?\n",
    "    ```bash\n",
    "    [phunc20@denjiro-x220 3256-base6]$ time python str.py\n",
    "    There are 497 such integers.\n",
    "\n",
    "    real    0m0.037s\n",
    "    user    0m0.028s\n",
    "    sys     0m0.008s\n",
    "    [phunc20@denjiro-x220 3256-base6]$ time python str.py\n",
    "    There are 497 such integers.\n",
    "\n",
    "    real    0m0.037s\n",
    "    user    0m0.026s\n",
    "    sys     0m0.011s\n",
    "    ```\n",
    "- Vì Pascal tôi không rành nên chỉ viết một cái là <code><b>int.lpr</b></code>\n",
    "    - Cách chạy Pascal hơi khác\n",
    "    - Hình như đầu tiên cần <b>compile <code>.lpr</code> file</b> bằng cách chạy lệnh trên terminal là **`$ fpc int.lpr`**\n",
    "    - <code><b>fpc</b></code> là **F**ree **P**ascal **C**omplier và nếu bạn đọc sử dụng Linux thì có thể dễ dàng instal bằng bất cứ package manager nào, e.g.\n",
    "        - trên Arch Linux qua lệnh <code><b>sudo pacman -S fpc</b></code>\n",
    "        - trên Ubuntu qua lệnh <code><b>sudo apt install fpc</b></code> hoặc <code><b>sudo apt-get install fpc</b></code>\n",
    "    - Bước compile ở trên sẽ tạo ra <b>executable</b> măng tên <code><b>int</b></code>; bước còn lại chỉ việc gỗ lệnh <code><b>$ ./int</b></code> là xong.\n"
   ]
  },
  {
   "cell_type": "markdown",
   "metadata": {},
   "source": [
    "### Further Thinking\n",
    "- Compare the speed of the scripts <code>int.py</code> and <code>str.py</code>\n",
    "- No matter which one of <code>str.py</code> and <code>int.py</code> is faster, try to explain why.\n",
    "\n",
    "    \n",
    "#### Partial Answer\n",
    "```python\n",
    "In [10]: def decompose(k):\n",
    "    ...:     \"\"\"\n",
    "    ...:     e.g. decompose(1974) will return [4,7,9,1]\n",
    "    ...:     \"\"\"\n",
    "    ...:     while True:\n",
    "    ...:         remainder = k % 10\n",
    "    ...:         yield remainder\n",
    "    ...:         k = k // 10\n",
    "    ...:         if k == 0:\n",
    "    ...:             break\n",
    "    ...:\n",
    "\n",
    "In [11]: list(decompose(1974))\n",
    "Out[11]: [4, 7, 9, 1]\n",
    "\n",
    "In [12]: %timeit decompose(3256)\n",
    "214 ns ± 1.52 ns per loop (mean ± std. dev. of 7 runs, 1000000 loops each)\n",
    "\n",
    "In [13]: %timeit str(3256)\n",
    "164 ns ± 0.383 ns per loop (mean ± std. dev. of 7 runs, 10000000 loops each)\n",
    "\n",
    "In [14]:\n",
    "```"
   ]
  },
  {
   "cell_type": "code",
   "execution_count": null,
   "metadata": {},
   "outputs": [],
   "source": []
  }
 ],
 "metadata": {
  "kernelspec": {
   "display_name": "Python 3",
   "language": "python",
   "name": "python3"
  },
  "language_info": {
   "codemirror_mode": {
    "name": "ipython",
    "version": 3
   },
   "file_extension": ".py",
   "mimetype": "text/x-python",
   "name": "python",
   "nbconvert_exporter": "python",
   "pygments_lexer": "ipython3",
   "version": "3.8.5"
  }
 },
 "nbformat": 4,
 "nbformat_minor": 4
}
